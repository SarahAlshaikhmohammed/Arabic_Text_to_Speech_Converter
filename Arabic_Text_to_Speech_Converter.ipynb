{
 "cells": [
  {
   "cell_type": "markdown",
   "metadata": {},
   "source": [
    "# Arabic Text to Speech Converter"
   ]
  },
  {
   "cell_type": "markdown",
   "metadata": {},
   "source": [
    "### Install gTTS Library"
   ]
  },
  {
   "cell_type": "code",
   "execution_count": null,
   "metadata": {},
   "outputs": [],
   "source": [
    "!pip install gtts"
   ]
  },
  {
   "cell_type": "markdown",
   "metadata": {},
   "source": [
    "### Import Necessary Libraries"
   ]
  },
  {
   "cell_type": "code",
   "execution_count": null,
   "metadata": {},
   "outputs": [],
   "source": [
    "from gtts import gTTS  # Import Google Text-to-Speech (gTTS) for text-to-speech conversion\n",
    "import os  # (Optional) Import os for file handling"
   ]
  },
  {
   "cell_type": "markdown",
   "metadata": {},
   "source": [
    "### Define the Text-to-Speech Function"
   ]
  },
  {
   "cell_type": "code",
   "execution_count": null,
   "metadata": {},
   "outputs": [],
   "source": [
    "def text_to_speech_gtts_arabic(text, filename='output_arabic.mp3'):\n",
    "    \"\"\"\n",
    "    Converts the provided Arabic text to speech and saves it as an MP3 audio file.\n",
    "\n",
    "    Parameters:\n",
    "    text (str): The Arabic text to convert to speech.\n",
    "    filename (str): The name of the output audio file. Default is 'output_arabic.mp3'.\n",
    "    \"\"\"\n",
    "    # Create a gTTS object with the given text, language set to Arabic, and normal speed (slow=False)\n",
    "    tts = gTTS(text=text, lang='ar', slow=False)\n",
    "    \n",
    "    # Save the speech to the specified file\n",
    "    tts.save(filename)\n",
    "    \n",
    "    # Print a confirmation message after saving the audio file\n",
    "    print(f\"Audio content written to file: {filename}\")\n"
   ]
  },
  {
   "cell_type": "markdown",
   "metadata": {},
   "source": [
    "### Convert Arabic Text to Speech"
   ]
  },
  {
   "cell_type": "code",
   "execution_count": null,
   "metadata": {},
   "outputs": [],
   "source": [
    "# Define the Arabic text to be converted to speech\n",
    "arabic_text = \"السلام عليكم، أنا ساره آل شيخ محمد متدربة في منصة بيان في برنامج رواد التقنية 24.\"\n",
    "\n",
    "# Call the function to convert text to speech and save it as 'output_arabic.mp3'\n",
    "text_to_speech_gtts_arabic(arabic_text, filename='output_arabic.mp3')"
   ]
  }
 ],
 "metadata": {
  "language_info": {
   "name": "python"
  }
 },
 "nbformat": 4,
 "nbformat_minor": 2
}
